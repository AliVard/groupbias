{
 "cells": [
  {
   "cell_type": "code",
   "execution_count": 1,
   "metadata": {},
   "outputs": [],
   "source": [
    "%load_ext autoreload\n",
    "%autoreload 2"
   ]
  },
  {
   "cell_type": "code",
   "execution_count": 2,
   "metadata": {},
   "outputs": [],
   "source": [
    "import dataset\n",
    "import json\n",
    "import pickle\n",
    "import os"
   ]
  },
  {
   "cell_type": "code",
   "execution_count": 6,
   "metadata": {},
   "outputs": [
    {
     "name": "stdout",
     "output_type": "stream",
     "text": [
      "binarized_purged.npz  set2.test.txt   set2.valid.txt  train.txt\r\n",
      "binarized_purged.pkl  set2.train.txt  test.txt\t      valid.txt\r\n"
     ]
    }
   ],
   "source": [
    "!ls /ivi/ilps/personal/avardas/_data/raw/yahoo"
   ]
  },
  {
   "cell_type": "code",
   "execution_count": 7,
   "metadata": {},
   "outputs": [
    {
     "name": "stdout",
     "output_type": "stream",
     "text": [
      "binarized_purged.npz  binarized_purged.pkl  test.txt  train.txt  valid.txt\r\n"
     ]
    }
   ],
   "source": [
    "!ls /ivi/ilps/personal/avardas/_data/raw/mslr"
   ]
  },
  {
   "cell_type": "code",
   "execution_count": null,
   "metadata": {},
   "outputs": [],
   "source": [
    "!ls /ivi/ilps/personal/avardas/_data/raw/istella"
   ]
  },
  {
   "cell_type": "code",
   "execution_count": 11,
   "metadata": {},
   "outputs": [],
   "source": [
    "def make_small(dataset, tr_new_size, va_new_size):\n",
    "    dataset['trdlr'] = dataset['trdlr'][:tr_new_size]\n",
    "    dataset['trfm'] = dataset['trfm'][:dataset['trdlr'][-1], :]\n",
    "    dataset['trlv'] = dataset['trlv'][:dataset['trdlr'][-1]]\n",
    "\n",
    "    dataset['vadlr'] = dataset['vadlr'][:va_new_size]\n",
    "    dataset['vafm'] = dataset['vafm'][:dataset['vadlr'][-1], :]\n",
    "    dataset['valv'] = dataset['valv'][:dataset['vadlr'][-1]]\n",
    "\n",
    "def save_pkl(dataset, pkl_path, tr_new_size=-1, va_new_size=-1):\n",
    "    ds = {}\n",
    "    ds['trfm'] = dataset.train.feature_matrix\n",
    "    ds['tefm'] = dataset.test.feature_matrix\n",
    "    ds['vafm'] = dataset.valid.feature_matrix\n",
    "    ds['trlv'] = dataset.train.label_vector\n",
    "    ds['telv'] = dataset.test.label_vector\n",
    "    ds['valv'] = dataset.valid.label_vector\n",
    "    ds['trdlr'] = dataset.train.doclist_ranges\n",
    "    ds['tedlr'] = dataset.test.doclist_ranges\n",
    "    ds['vadlr'] = dataset.valid.doclist_ranges\n",
    "    if tr_new_size > 0:\n",
    "        make_small(ds, tr_new_size, va_new_size)\n",
    "    with open(pkl_path, 'wb') as f:\n",
    "        pickle.dump(ds, f)"
   ]
  },
  {
   "cell_type": "code",
   "execution_count": null,
   "metadata": {},
   "outputs": [],
   "source": [
    "with open('datasets_info.json', 'r') as f:\n",
    "    ds_info = json.load(f)\n",
    "    \n",
    "    \n",
    "for name in ['mslr', 'yahoo']:\n",
    "    data = dataset.get_dataset_from_json_info(\n",
    "                    name,\n",
    "                    'datasets_info.json',\n",
    "                    feature_normalization=False\n",
    "                  ).get_data_folds()[0]\n",
    "    data.read_data()\n",
    "    print(name, data.train.doclist_ranges.shape, data.valid.doclist_ranges.shape)\n",
    "    save_pkl(data, os.path.join(ds_info[name]['fold_paths'][0], 'binarized_purged_small.pkl'), 1000, 500)"
   ]
  },
  {
   "cell_type": "code",
   "execution_count": 4,
   "metadata": {},
   "outputs": [],
   "source": [
    "with open('../ltr/datasets_info.json', 'r') as f:\n",
    "        datasets_info = json.load(f)\n",
    "\n",
    "    \n",
    "def read_datatset(datasets_info, name):\n",
    "    with open(datasets_info[name]['path'], 'rb') as f:\n",
    "        dataset = pickle.load(f)\n",
    "    with open(datasets_info[name]['path'].replace('.pkl', datasets_info[name]['group_suffix']), 'rb') as f:\n",
    "        groups = pickle.load(f)\n",
    "    return type('ltr', (object, ), dataset), groups\n",
    "\n",
    "dataset, all_groups = read_datatset(datasets_info, 'yahoo')"
   ]
  },
  {
   "cell_type": "code",
   "execution_count": 6,
   "metadata": {},
   "outputs": [
    {
     "data": {
      "text/plain": [
       "array([0, 1, 1, 0, 0, 1, 0, 0, 0, 0, 0, 0, 1, 0, 0, 1, 0, 1, 0, 0, 1, 1,\n",
       "       1, 1, 2, 2, 0, 1, 2, 1, 2, 1, 2, 0, 2, 2, 1, 2, 1, 1, 1, 2, 2, 2,\n",
       "       1, 1, 1, 1, 0, 1, 1, 0, 1, 1, 1, 3, 1, 2, 0, 3, 1, 2, 1, 2, 1, 1,\n",
       "       0, 0, 1, 1, 1, 0, 1, 1, 0, 1, 1, 0, 1, 1, 0, 1, 0, 0, 0, 3, 0, 0,\n",
       "       2, 2, 1, 1, 1, 1, 1, 2, 2, 2, 2, 2])"
      ]
     },
     "execution_count": 6,
     "metadata": {},
     "output_type": "execute_result"
    }
   ],
   "source": [
    "dataset.telv[:100]"
   ]
  },
  {
   "cell_type": "code",
   "execution_count": null,
   "metadata": {},
   "outputs": [],
   "source": []
  }
 ],
 "metadata": {
  "kernelspec": {
   "display_name": "Python 3",
   "language": "python",
   "name": "python3"
  },
  "language_info": {
   "codemirror_mode": {
    "name": "ipython",
    "version": 3
   },
   "file_extension": ".py",
   "mimetype": "text/x-python",
   "name": "python",
   "nbconvert_exporter": "python",
   "pygments_lexer": "ipython3",
   "version": "3.7.6"
  }
 },
 "nbformat": 4,
 "nbformat_minor": 4
}
